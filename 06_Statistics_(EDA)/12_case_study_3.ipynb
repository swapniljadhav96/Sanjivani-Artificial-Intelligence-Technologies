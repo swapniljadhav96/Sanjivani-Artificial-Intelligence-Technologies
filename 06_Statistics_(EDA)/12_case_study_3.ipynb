{
 "cells": [
  {
   "cell_type": "code",
   "execution_count": 3,
   "id": "b9b72d6a",
   "metadata": {},
   "outputs": [],
   "source": [
    "#case study 3\n",
    "import pandas as pd\n",
    "import seaborn as sns\n",
    "import matplotlib.pyplot as plt\n",
    "import numpy as np\n",
    "\n",
    "\n",
    "#Load Cars.csv into a pandas dataFrame.\n",
    "Q3 = pd.read_csv(\"C:/Data Science/3-Statistics/Cars.csv\")"
   ]
  },
  {
   "cell_type": "code",
   "execution_count": 4,
   "id": "0b0041a6",
   "metadata": {},
   "outputs": [
    {
     "name": "stdout",
     "output_type": "stream",
     "text": [
      "(81, 5)\n"
     ]
    }
   ],
   "source": [
    "#shape of the dataset\n",
    "print(Q3.shape)"
   ]
  },
  {
   "cell_type": "code",
   "execution_count": 5,
   "id": "11eb8036",
   "metadata": {},
   "outputs": [
    {
     "data": {
      "text/plain": [
       "Index(['HP', 'MPG', 'VOL', 'SP', 'WT'], dtype='object')"
      ]
     },
     "execution_count": 5,
     "metadata": {},
     "output_type": "execute_result"
    }
   ],
   "source": [
    "#column of the dataset\n",
    "Q3.columns"
   ]
  },
  {
   "cell_type": "code",
   "execution_count": 6,
   "id": "d274902a",
   "metadata": {},
   "outputs": [
    {
     "data": {
      "text/plain": [
       "118.288996    4\n",
       "105.461264    3\n",
       "111.185353    3\n",
       "119.105055    2\n",
       "102.598513    2\n",
       "             ..\n",
       "116.392639    1\n",
       "115.748847    1\n",
       "117.461264    1\n",
       "117.105055    1\n",
       "139.840817    1\n",
       "Name: SP, Length: 68, dtype: int64"
      ]
     },
     "execution_count": 6,
     "metadata": {},
     "output_type": "execute_result"
    }
   ],
   "source": [
    "Q3['SP'].value_counts()"
   ]
  },
  {
   "cell_type": "code",
   "execution_count": 7,
   "id": "86c65673",
   "metadata": {},
   "outputs": [
    {
     "data": {
      "text/plain": [
       "HP       int64\n",
       "MPG    float64\n",
       "VOL      int64\n",
       "SP     float64\n",
       "WT     float64\n",
       "dtype: object"
      ]
     },
     "execution_count": 7,
     "metadata": {},
     "output_type": "execute_result"
    }
   ],
   "source": [
    "Q3.dtypes\n",
    "#HP       int64\n",
    "#MPG    float64\n",
    "#VOL      int64\n",
    "#SP     float64\n",
    "#WT     float64\n",
    "#dtype: object"
   ]
  },
  {
   "cell_type": "code",
   "execution_count": 9,
   "id": "d78b7957",
   "metadata": {},
   "outputs": [
    {
     "data": {
      "text/html": [
       "<div>\n",
       "<style scoped>\n",
       "    .dataframe tbody tr th:only-of-type {\n",
       "        vertical-align: middle;\n",
       "    }\n",
       "\n",
       "    .dataframe tbody tr th {\n",
       "        vertical-align: top;\n",
       "    }\n",
       "\n",
       "    .dataframe thead th {\n",
       "        text-align: right;\n",
       "    }\n",
       "</style>\n",
       "<table border=\"1\" class=\"dataframe\">\n",
       "  <thead>\n",
       "    <tr style=\"text-align: right;\">\n",
       "      <th></th>\n",
       "      <th>HP</th>\n",
       "      <th>MPG</th>\n",
       "      <th>VOL</th>\n",
       "      <th>SP</th>\n",
       "      <th>WT</th>\n",
       "    </tr>\n",
       "  </thead>\n",
       "  <tbody>\n",
       "    <tr>\n",
       "      <th>0</th>\n",
       "      <td>False</td>\n",
       "      <td>False</td>\n",
       "      <td>False</td>\n",
       "      <td>False</td>\n",
       "      <td>False</td>\n",
       "    </tr>\n",
       "    <tr>\n",
       "      <th>1</th>\n",
       "      <td>False</td>\n",
       "      <td>False</td>\n",
       "      <td>False</td>\n",
       "      <td>False</td>\n",
       "      <td>False</td>\n",
       "    </tr>\n",
       "    <tr>\n",
       "      <th>2</th>\n",
       "      <td>False</td>\n",
       "      <td>False</td>\n",
       "      <td>False</td>\n",
       "      <td>False</td>\n",
       "      <td>False</td>\n",
       "    </tr>\n",
       "    <tr>\n",
       "      <th>3</th>\n",
       "      <td>False</td>\n",
       "      <td>False</td>\n",
       "      <td>False</td>\n",
       "      <td>False</td>\n",
       "      <td>False</td>\n",
       "    </tr>\n",
       "    <tr>\n",
       "      <th>4</th>\n",
       "      <td>False</td>\n",
       "      <td>False</td>\n",
       "      <td>False</td>\n",
       "      <td>False</td>\n",
       "      <td>False</td>\n",
       "    </tr>\n",
       "    <tr>\n",
       "      <th>...</th>\n",
       "      <td>...</td>\n",
       "      <td>...</td>\n",
       "      <td>...</td>\n",
       "      <td>...</td>\n",
       "      <td>...</td>\n",
       "    </tr>\n",
       "    <tr>\n",
       "      <th>76</th>\n",
       "      <td>False</td>\n",
       "      <td>False</td>\n",
       "      <td>False</td>\n",
       "      <td>False</td>\n",
       "      <td>False</td>\n",
       "    </tr>\n",
       "    <tr>\n",
       "      <th>77</th>\n",
       "      <td>False</td>\n",
       "      <td>False</td>\n",
       "      <td>False</td>\n",
       "      <td>False</td>\n",
       "      <td>False</td>\n",
       "    </tr>\n",
       "    <tr>\n",
       "      <th>78</th>\n",
       "      <td>False</td>\n",
       "      <td>False</td>\n",
       "      <td>False</td>\n",
       "      <td>False</td>\n",
       "      <td>False</td>\n",
       "    </tr>\n",
       "    <tr>\n",
       "      <th>79</th>\n",
       "      <td>False</td>\n",
       "      <td>False</td>\n",
       "      <td>False</td>\n",
       "      <td>False</td>\n",
       "      <td>False</td>\n",
       "    </tr>\n",
       "    <tr>\n",
       "      <th>80</th>\n",
       "      <td>False</td>\n",
       "      <td>False</td>\n",
       "      <td>False</td>\n",
       "      <td>False</td>\n",
       "      <td>False</td>\n",
       "    </tr>\n",
       "  </tbody>\n",
       "</table>\n",
       "<p>81 rows × 5 columns</p>\n",
       "</div>"
      ],
      "text/plain": [
       "       HP    MPG    VOL     SP     WT\n",
       "0   False  False  False  False  False\n",
       "1   False  False  False  False  False\n",
       "2   False  False  False  False  False\n",
       "3   False  False  False  False  False\n",
       "4   False  False  False  False  False\n",
       "..    ...    ...    ...    ...    ...\n",
       "76  False  False  False  False  False\n",
       "77  False  False  False  False  False\n",
       "78  False  False  False  False  False\n",
       "79  False  False  False  False  False\n",
       "80  False  False  False  False  False\n",
       "\n",
       "[81 rows x 5 columns]"
      ]
     },
     "execution_count": 9,
     "metadata": {},
     "output_type": "execute_result"
    }
   ],
   "source": [
    "Q3.isnull()"
   ]
  },
  {
   "cell_type": "code",
   "execution_count": 10,
   "id": "7278b556",
   "metadata": {},
   "outputs": [
    {
     "data": {
      "image/png": "[encoded data removed]",
      "text/plain": [
       "<Figure size 640x480 with 1 Axes>"
      ]
     },
     "metadata": {},
     "output_type": "display_data"
    },
    {
     "name": "stderr",
     "output_type": "stream",
     "text": [
      "C:\\Users\\suraj\\anaconda3\\lib\\site-packages\\seaborn\\axisgrid.py:848: UserWarning: \n",
      "\n",
      "`distplot` is a deprecated function and will be removed in seaborn v0.14.0.\n",
      "\n",
      "Please adapt your code to use either `displot` (a figure-level function with\n",
      "similar flexibility) or `histplot` (an axes-level function for histograms).\n",
      "\n",
      "For a guide to updating your code to use the new functions, please see\n",
      "https://gist.github.com/mwaskom/de44147ed2974457ad6372750bbe5751\n",
      "\n",
      "  func(*plot_args, **plot_kwargs)\n"
     ]
    },
    {
     "data": {
      "image/png": "[encoded data removed]",
      "text/plain": [
       "<Figure size 640x480 with 1 Axes>"
      ]
     },
     "metadata": {},
     "output_type": "display_data"
    },
    {
     "data": {
      "image/png": "[encoded data removed]",
      "text/plain": [
       "<Figure size 311.111x300 with 1 Axes>"
      ]
     },
     "metadata": {},
     "output_type": "display_data"
    }
   ],
   "source": [
    "# Scatterplot\n",
    "\n",
    "Q3.plot(kind='scatter', x='HP', y=\"MPG\") ;\n",
    "plt.show()\n",
    "\n",
    "plt.hist(Q3.HP)\n",
    "\n",
    "sns.FacetGrid(Q3, height=3) \\\n",
    "   .map(sns.distplot, \"HP\") \\\n",
    "   .add_legend();\n",
    "plt.show();"
   ]
  },
  {
   "cell_type": "code",
   "execution_count": 11,
   "id": "b483a2d9",
   "metadata": {},
   "outputs": [
    {
     "name": "stdout",
     "output_type": "stream",
     "text": [
      "[0.18518519 0.43209877 0.11111111 0.07407407 0.11111111 0.\n",
      " 0.02469136 0.02469136 0.01234568 0.02469136]\n",
      "[ 49.   76.3 103.6 130.9 158.2 185.5 212.8 240.1 267.4 294.7 322. ]\n"
     ]
    },
    {
     "data": {
      "image/png": "[encoded data removed]",
      "text/plain": [
       "<Figure size 640x480 with 1 Axes>"
      ]
     },
     "metadata": {},
     "output_type": "display_data"
    }
   ],
   "source": [
    "import numpy as np\n",
    "\n",
    "counts,bin_edges = np.histogram(Q3['HP'], bins=10, density = True)\n",
    "pdf = counts/(sum(counts))\n",
    "print(pdf)\n",
    "print(bin_edges)\n",
    "cdf = np.cumsum(pdf)\n",
    "plt.plot(bin_edges[1:],pdf)\n",
    "plt.plot(bin_edges[1:], cdf)\n",
    "\n",
    "\n",
    "counts, bin_edges = np.histogram(Q3['HP'], bins=20, \n",
    "                                 density = True)\n",
    "pdf = counts/(sum(counts))\n",
    "plt.plot(bin_edges[1:],pdf);\n",
    "\n",
    "plt.show();\n",
    "\n"
   ]
  },
  {
   "cell_type": "code",
   "execution_count": 12,
   "id": "160b4c56",
   "metadata": {},
   "outputs": [
    {
     "data": {
      "image/png": "[encoded data removed]",
      "text/plain": [
       "<Figure size 640x480 with 1 Axes>"
      ]
     },
     "metadata": {},
     "output_type": "display_data"
    }
   ],
   "source": [
    "# Inference\n",
    "\n",
    "\n",
    "sns.boxplot(Q3.HP)\n",
    "plt.show()"
   ]
  },
  {
   "cell_type": "code",
   "execution_count": 13,
   "id": "1f354c2c",
   "metadata": {},
   "outputs": [
    {
     "data": {
      "image/png": "[encoded data removed]",
      "text/plain": [
       "<Figure size 640x480 with 1 Axes>"
      ]
     },
     "metadata": {},
     "output_type": "display_data"
    }
   ],
   "source": [
    "sns.boxplot(Q3.MPG)\n",
    "plt.show()"
   ]
  },
  {
   "cell_type": "code",
   "execution_count": 14,
   "id": "19a9c878",
   "metadata": {},
   "outputs": [
    {
     "data": {
      "text/plain": [
       "HP     117.469136\n",
       "MPG     34.422076\n",
       "VOL     98.765432\n",
       "SP     121.540272\n",
       "WT      32.412577\n",
       "dtype: float64"
      ]
     },
     "execution_count": 14,
     "metadata": {},
     "output_type": "execute_result"
    }
   ],
   "source": [
    "Q3.mean()"
   ]
  },
  {
   "cell_type": "code",
   "execution_count": 15,
   "id": "aefc0152",
   "metadata": {},
   "outputs": [
    {
     "name": "stdout",
     "output_type": "stream",
     "text": [
      "\n",
      "Std-dev:\n",
      "56.759855057661504\n",
      "9.074902734701402\n"
     ]
    }
   ],
   "source": [
    "print(\"\\nStd-dev:\");\n",
    "print(np.std(Q2[\"HP\"]))\n",
    "print(np.std(Q2[\"MPG\"]))"
   ]
  },
  {
   "cell_type": "code",
   "execution_count": 16,
   "id": "b9d9db6f",
   "metadata": {},
   "outputs": [
    {
     "name": "stdout",
     "output_type": "stream",
     "text": [
      "1.684269690374973\n",
      "2.7072670776142544\n",
      "1.684269690374973\n",
      "2.7072670776142544\n"
     ]
    }
   ],
   "source": [
    "# skewness\n",
    "from scipy.stats import skew\n",
    "from scipy.stats import kurtosis\n",
    "\n",
    "\n",
    "\n",
    "sp_lst=Q3['HP'].tolist()\n",
    "print(skew(sp_lst))\n",
    "print(kurtosis(sp_lst,axis=0,bias=True))\n",
    "\n",
    "\n",
    "lst=Q3['HP'].tolist()\n",
    "print(skew(lst))\n",
    "\n",
    "print(kurtosis(lst,axis=0,bias=True))"
   ]
  },
  {
   "cell_type": "code",
   "execution_count": 17,
   "id": "e03e1a79",
   "metadata": {},
   "outputs": [
    {
     "name": "stdout",
     "output_type": "stream",
     "text": [
      "\n",
      "Medians:\n",
      "100.0\n",
      "99.0\n"
     ]
    }
   ],
   "source": [
    "#Median, Quantiles, Percentiles, IQR.\n",
    "print(\"\\nMedians:\")\n",
    "print(np.median(Q3[\"HP\"]))\n",
    "#Median with an outlier\n",
    "print(np.median(np.append(Q3[\"HP\"],50)));"
   ]
  },
  {
   "cell_type": "code",
   "execution_count": null,
   "id": "e2f3f62d",
   "metadata": {},
   "outputs": [],
   "source": []
  }
 ],
 "metadata": {
  "kernelspec": {
   "display_name": "Python 3 (ipykernel)",
   "language": "python",
   "name": "python3"
  },
  "language_info": {
   "codemirror_mode": {
    "name": "ipython",
    "version": 3
   },
   "file_extension": ".py",
   "mimetype": "text/x-python",
   "name": "python",
   "nbconvert_exporter": "python",
   "pygments_lexer": "ipython3",
   "version": "3.10.9"
  }
 },
 "nbformat": 4,
 "nbformat_minor": 5
}
